{
 "cells": [
  {
   "cell_type": "code",
   "execution_count": 1,
   "id": "bf4e5805-9507-4661-9bff-0c13ad8f8015",
   "metadata": {},
   "outputs": [
    {
     "name": "stdout",
     "output_type": "stream",
     "text": [
      "Largest element is: 99\n"
     ]
    }
   ],
   "source": [
    "# Python program to find largest\n",
    "# number in a list\n",
    " \n",
    "# list of numbers\n",
    "list1 = [10, 20, 4, 45, 99]\n",
    " \n",
    "# sorting the list\n",
    "list1.sort()\n",
    " \n",
    "# printing the last element\n",
    "print(\"Largest element is:\", list1[-1])"
   ]
  },
  {
   "cell_type": "code",
   "execution_count": 2,
   "id": "efe85169-390f-41aa-a383-7a5f367a4245",
   "metadata": {},
   "outputs": [
    {
     "name": "stdout",
     "output_type": "stream",
     "text": [
      "Largest element is: 99\n"
     ]
    }
   ],
   "source": [
    "# Python program to find largest\n",
    "# number in a list\n",
    " \n",
    "# List of numbers\n",
    "list1 = [10, 20, 4, 45, 99]\n",
    " \n",
    "# Printing the maximum element\n",
    "print(\"Largest element is:\", max(list1))"
   ]
  },
  {
   "cell_type": "code",
   "execution_count": null,
   "id": "8a78abaa-aef9-4767-b7fb-ac212057173e",
   "metadata": {},
   "outputs": [],
   "source": [
    "# Python program to find largest\n",
    "# number in a list\n",
    "\n",
    "# Creating an empty list\n",
    "list1 = []\n",
    "\n",
    "# asking number of elements to put in list\n",
    "num = int(input(\"Enter number of elements in list: \"))\n",
    "\n",
    "# Iterating till num to append elements in list\n",
    "for i in range(1, num + 1):\n",
    "\tele = int(input(\"Enter elements: \"))\n",
    "\tlist1.append(ele)\n",
    "\n",
    "# Printing maximum element\n",
    "print(\"Largest element is:\", max(list1))\n"
   ]
  },
  {
   "cell_type": "code",
   "execution_count": 3,
   "id": "80efdd33-78c1-4940-b3f3-2e65e8fa1969",
   "metadata": {},
   "outputs": [
    {
     "name": "stdout",
     "output_type": "stream",
     "text": [
      "Yes\n"
     ]
    }
   ],
   "source": [
    "# function which return reverse of a string\n",
    "\n",
    "def isPalindrome(s):\n",
    "\treturn s == s[::-1]\n",
    "\n",
    "\n",
    "# Driver code\n",
    "s = \"malayalam\"\n",
    "ans = isPalindrome(s)\n",
    "\n",
    "if ans:\n",
    "\tprint(\"Yes\")\n",
    "else:\n",
    "\tprint(\"No\")\n"
   ]
  },
  {
   "cell_type": "code",
   "execution_count": null,
   "id": "af6f6f80-67de-47f9-b378-138001e750c5",
   "metadata": {},
   "outputs": [],
   "source": [
    "# Quick Examples\n",
    "# Count occurrences using count()\n",
    "count = list2.count(67)\n",
    "\n",
    "# Count occurrences using Counter\n",
    "from collections import Counter\n",
    "count = Counter(list2)[67]\n",
    "\n",
    "# Using operator\n",
    "import operator\n",
    "count = operator.countOf(list2,'AA')\n",
    "\n",
    "# Using list comprehension\n",
    "count = len([i for i in list2 if i==12])\n",
    "\n",
    "# Get count occurrence of all values\n",
    "from collections import Counter\n",
    "count = Counter(list2)\n",
    "\n",
    "# Get all occurrences using pandas\n",
    "pd.Series(list2).value_counts()"
   ]
  },
  {
   "cell_type": "code",
   "execution_count": 4,
   "id": "d7a207c8-b1fb-409e-8707-bf5569855aba",
   "metadata": {},
   "outputs": [
    {
     "name": "stdout",
     "output_type": "stream",
     "text": [
      "The second largest element of the list is: 30\n"
     ]
    }
   ],
   "source": [
    "#program to find the second largest number of list  \n",
    "# declaring the list  \n",
    "list_val = [20, 30, 40, 25, 10]  \n",
    "# sorting the list  \n",
    "list_val.sort()  \n",
    "#displaying the second last element of the list  \n",
    "print(\"The second largest element of the list is:\", list_val[-2])  "
   ]
  },
  {
   "cell_type": "code",
   "execution_count": null,
   "id": "fc8bfd82-03fc-4ca4-9037-f2cf7291cf8d",
   "metadata": {},
   "outputs": [],
   "source": [
    "# Implement a function to remove duplicate elements from a list.\n",
    "# Python 3 code to demonstrate\n",
    "# removing duplicates from list\n",
    "\n",
    "# initializing list\n",
    "test_list = [1, 5, 3, 6, 3, 5, 6, 1]\n",
    "print(\"The original list is : \" + str(test_list))\n",
    "\n",
    "res = []\n",
    "for i in test_list:\n",
    "\tif i not in res:\n",
    "\t\tres.append(i)\n",
    "\n",
    "# printing list after removal\n",
    "print(\"The list after removing duplicates : \" + str(res))\n",
    "\n"
   ]
  },
  {
   "cell_type": "code",
   "execution_count": 5,
   "id": "8a4bd475-2b09-4def-9167-1857057bf826",
   "metadata": {},
   "outputs": [
    {
     "name": "stdout",
     "output_type": "stream",
     "text": [
      "The factorial of 7 is 5040\n"
     ]
    }
   ],
   "source": [
    "# Python program to find the factorial of a number provided by the user.\n",
    "\n",
    "# change the value for a different result\n",
    "num = 7\n",
    "\n",
    "# To take input from the user\n",
    "#num = int(input(\"Enter a number: \"))\n",
    "\n",
    "factorial = 1\n",
    "\n",
    "# check if the number is negative, positive or zero\n",
    "if num < 0:\n",
    "   print(\"Sorry, factorial does not exist for negative numbers\")\n",
    "elif num == 0:\n",
    "   print(\"The factorial of 0 is 1\")\n",
    "else:\n",
    "   for i in range(1,num + 1):\n",
    "       factorial = factorial*i\n",
    "   print(\"The factorial of\",num,\"is\",factorial)"
   ]
  },
  {
   "cell_type": "code",
   "execution_count": null,
   "id": "1c7e1754-0198-44cf-8c87-c586904b0690",
   "metadata": {},
   "outputs": [],
   "source": [
    "# Number to be checked for prime\n",
    "\n",
    "n = 5\n",
    "\n",
    "# Check if the number is greater than 1\n",
    "\n",
    "if n > 1:\n",
    "\tfor i in range(2, int(n/2)+1):\n",
    "\t\tif (n % i) == 0:\n",
    "\t\t\tprint(num, \"is not a prime number\")\n",
    "\t\tbreak\n",
    "\telse:\n",
    "\t\tprint(n, \"is a prime number\")\n",
    "# If the number is less than 1, its also not a prime number.\n",
    "else:\n",
    "\tprint(n, \"is not a prime number\")"
   ]
  },
  {
   "cell_type": "code",
   "execution_count": null,
   "id": "a395527a-4140-432b-ab28-a511e45ca526",
   "metadata": {},
   "outputs": [],
   "source": [
    "#Write a Python program to sort a list of integers in ascending order.\n",
    "#Implement a function to find the sum of all numbers in a list.\n"
   ]
  },
  {
   "cell_type": "code",
   "execution_count": 11,
   "id": "7025f3a2-706a-43fc-8802-432562d4fcc8",
   "metadata": {},
   "outputs": [
    {
     "name": "stdout",
     "output_type": "stream",
     "text": [
      "35\n",
      "None\n"
     ]
    }
   ],
   "source": [
    "def sol(l):\n",
    "    sum = 0\n",
    "    for i in a:\n",
    "        sum = sum + i\n",
    "    print(sum)\n",
    "\n",
    "print(sol([5,6,7,8,9]))\n",
    "\n",
    "\n",
    "\n",
    "\n",
    "\n",
    "\n"
   ]
  },
  {
   "cell_type": "code",
   "execution_count": null,
   "id": "b386513f-a6d9-4e5f-820f-22ae599b8a54",
   "metadata": {},
   "outputs": [],
   "source": [
    "#Initialize array     \n",
    "arr = [5, 2, 8, 7, 1];     \n",
    "temp = 0;    \n",
    "     \n",
    "#Displaying elements of original array    \n",
    "print(\"Elements of original array: \");    \n",
    "for i in range(0, len(arr)):    \n",
    "    print(arr[i], end=\" \");    \n",
    "     \n",
    "#Sort the array in ascending order    \n",
    "for i in range(0, len(arr)):    \n",
    "    for j in range(i+1, len(arr)):    \n",
    "        if(arr[i] > arr[j]):    \n",
    "            temp = arr[i];    \n",
    "            arr[i] = arr[j];    \n",
    "            arr[j] = temp;    \n",
    "     \n",
    "print();    \n",
    "     \n",
    "#Displaying elements of the array after sorting    \n",
    "    \n",
    "print(\"Elements of array sorted in ascending order: \");    \n",
    "for i in range(0, len(arr)):    \n",
    "    print(arr[i], end=\" \");    \n"
   ]
  },
  {
   "cell_type": "code",
   "execution_count": 12,
   "id": "e979c14f-1a25-4a04-9331-3dfa79783b4a",
   "metadata": {},
   "outputs": [
    {
     "name": "stdout",
     "output_type": "stream",
     "text": [
      "Elements of original array: \n",
      "5 2 8 7 1 \n",
      "Elements of array sorted in ascending order: \n",
      "1 2 5 7 8 "
     ]
    }
   ],
   "source": [
    "#Initialize array     \n",
    "arr = [5, 2, 8, 7, 1];     \n",
    "temp = 0;    \n",
    "     \n",
    "#Displaying elements of original array    \n",
    "print(\"Elements of original array: \");    \n",
    "for i in range(0, len(arr)):    \n",
    "    print(arr[i], end=\" \");    \n",
    "     \n",
    "#Sort the array in ascending order    \n",
    "for i in range(0, len(arr)):    \n",
    "    for j in range(i+1, len(arr)):    \n",
    "        if(arr[i] > arr[j]):    \n",
    "            temp = arr[i];    \n",
    "            arr[i] = arr[j];    \n",
    "            arr[j] = temp;    \n",
    "     \n",
    "print();    \n",
    "     \n",
    "#Displaying elements of the array after sorting    \n",
    "    \n",
    "print(\"Elements of array sorted in ascending order: \");    \n",
    "for i in range(0, len(arr)):    \n",
    "    print(arr[i], end=\" \");    \n"
   ]
  },
  {
   "cell_type": "code",
   "execution_count": 13,
   "id": "65caf62b-7bb9-4caf-8872-20e33cbed207",
   "metadata": {},
   "outputs": [
    {
     "name": "stdout",
     "output_type": "stream",
     "text": [
      "4\n",
      "5\n",
      "6\n",
      "7\n",
      "8\n",
      "4\n",
      "3\n",
      "9\n",
      "11\n",
      "12\n"
     ]
    }
   ],
   "source": [
    "def find_common_elements(list1, list2):\n",
    "    common_elements = []\n",
    "    for element in list1:\n",
    "        if element in list2:\n",
    "            common_elements.append(element)\n",
    "    return common_elements\n",
    "\n",
    "# Test the function\n",
    "list1 = [1, 2, 3, 4, 5]\n",
    "list2 = [4, 5, 6, 7, 8]\n",
    "print(\"Common elements:\", find_common_elements(list1, list2))"
   ]
  },
  {
   "cell_type": "code",
   "execution_count": null,
   "id": "c33ee582-fd63-4d8d-a647-3bc5460187e8",
   "metadata": {},
   "outputs": [],
   "source": [
    "class Solution:\n",
    "\n",
    "\t# Function is to check whether two strings are anagram of each other or not.\n",
    "\tdef isAnagram(self, a, b):\n",
    "\n",
    "\t\tif sorted(a) == sorted(b):\n",
    "\t\t\treturn True\n",
    "\t\telse:\n",
    "\t\t\treturn False\n",
    "\n",
    "# {\n",
    "# Driver Code Starts\n",
    "\n",
    "if __name__ == '__main__':\n",
    "\ta = \"gram\"\n",
    "\tb = \"arm\"\n",
    "\tif(Solution().isAnagram(a, b)):\n",
    "\tprint(\"The two strings are anagram of each other\")\n",
    "\telse:\n",
    "\tprint(\"The two strings are not anagram of each other\")\n",
    "# } Driver Code Ends\n"
   ]
  },
  {
   "cell_type": "code",
   "execution_count": 1,
   "id": "e1ca9299-e640-4c5c-9983-443091bd528d",
   "metadata": {},
   "outputs": [
    {
     "name": "stdout",
     "output_type": "stream",
     "text": [
      "ABC\n",
      "ACB\n",
      "BAC\n",
      "BCA\n",
      "CBA\n",
      "CAB\n"
     ]
    }
   ],
   "source": [
    "# Python program to print all permutations\n",
    "# with duplicates allowed\n",
    "def toString(List):\n",
    "\treturn ''.join(List)\n",
    "\n",
    "# Function to print permutations\n",
    "# of string\n",
    "# This function takes three parameters:\n",
    "# 1. String\n",
    "# 2. Starting index of the string\n",
    "# 3. Ending index of the string.\n",
    "def permute(a, l, r):\n",
    "\tif l == r:\n",
    "\t\tprint (toString(a))\n",
    "\telse:\n",
    "\t\tfor i in range(l, r + 1):\n",
    "\t\t\ta[l], a[i] = a[i], a[l]\n",
    "\t\t\tpermute(a, l + 1, r)\n",
    "\n",
    "\t\t\t# backtrack\n",
    "\t\t\ta[l], a[i] = a[i], a[l]\n",
    "\n",
    "# Driver code\n",
    "string = \"ABC\"\n",
    "n = len(string)\n",
    "a = list(string)\n",
    "permute(a, 0, n-1)\n",
    "# This code is contributed by Bhavya Jain\n",
    "\n"
   ]
  },
  {
   "cell_type": "code",
   "execution_count": null,
   "id": "61618243-7cb6-48a0-9e49-f6820e9203d2",
   "metadata": {},
   "outputs": [],
   "source": [
    "# Program to display the Fibonacci sequence up to n-th term\n",
    "\n",
    "nterms = int(input(\"How many terms? \"))\n",
    "\n",
    "# first two terms\n",
    "n1, n2 = 0, 1\n",
    "count = 0\n",
    "\n",
    "# check if the number of terms is valid\n",
    "if nterms <= 0:\n",
    "   print(\"Please enter a positive integer\")\n",
    "# if there is only one term, return n1\n",
    "elif nterms == 1:\n",
    "   print(\"Fibonacci sequence upto\",nterms,\":\")\n",
    "   print(n1)\n",
    "# generate fibonacci sequence\n",
    "else:\n",
    "   print(\"Fibonacci sequence:\")\n",
    "   while count < nterms:\n",
    "       print(n1)\n",
    "       nth = n1 + n2\n",
    "       # update values\n",
    "       n1 = n2\n",
    "       n2 = nth\n",
    "       count += 1"
   ]
  },
  {
   "cell_type": "code",
   "execution_count": null,
   "id": "74c88bea-e06a-4b7d-8a58-25ea023c32a6",
   "metadata": {},
   "outputs": [],
   "source": [
    "# python code to reverse words in a given string\n",
    "\n",
    "# input string\n",
    "string = \"i like this program very much\"\n",
    "\n",
    "# spliting words in the given string\n",
    "# using slicing reverse the words\n",
    "s = string.split()[::-1]\n",
    "\n",
    "# joining the reversed string and\n",
    "# printing the output\n",
    "print(\" \".join(s))\n"
   ]
  },
  {
   "cell_type": "code",
   "execution_count": null,
   "id": "315b2fc8-771a-4be3-a337-1bc32c53bc3a",
   "metadata": {},
   "outputs": [],
   "source": [
    "# Python3 program to reverse a string\n",
    "# s = input()\n",
    "s = \"i like this program very much\"\n",
    "words = s.split(' ')\n",
    "string = []\n",
    "for word in words:\n",
    "\tstring.insert(0, word)\n",
    "\n",
    "\n",
    "print(\" \".join(string))\n",
    "\n",
    "# Solution proposed bu Uttam\n"
   ]
  },
  {
   "cell_type": "code",
   "execution_count": 2,
   "id": "2a79dfb5-7c2a-437f-8e84-f0738a97abd4",
   "metadata": {},
   "outputs": [
    {
     "name": "stdout",
     "output_type": "stream",
     "text": [
      "The original list : [4, 5, 8, 9, 10, 17]\n",
      "Median of list is : 8.5\n"
     ]
    }
   ],
   "source": [
    "# Python3 code to demonstrate working of\n",
    "# Median of list\n",
    "# Using loop + \"~\" operator\n",
    "\n",
    "# initializing list\n",
    "test_list = [4, 5, 8, 9, 10, 17]\n",
    "\n",
    "# printing list\n",
    "print(\"The original list : \" + str(test_list))\n",
    "\n",
    "# Median of list\n",
    "# Using loop + \"~\" operator\n",
    "test_list.sort()\n",
    "mid = len(test_list) // 2\n",
    "res = (test_list[mid] + test_list[~mid]) / 2\n",
    "\n",
    "# Printing result\n",
    "print(\"Median of list is : \" + str(res))\n"
   ]
  },
  {
   "cell_type": "code",
   "execution_count": null,
   "id": "9cacc9c6-7028-4da2-883e-17ff73a9699d",
   "metadata": {},
   "outputs": [],
   "source": [
    "# Python program to illustrate the intersection\n",
    "# of two lists in most simple way\n",
    "def intersection(lst1, lst2):\n",
    "\tlst3 = [value for value in lst1 if value in lst2]\n",
    "\treturn lst3\n",
    "\n",
    "# Driver Code\n",
    "lst1 = [4, 9, 1, 17, 11, 26, 28, 54, 69]\n",
    "lst2 = [9, 9, 74, 21, 45, 11, 63, 28, 26]\n",
    "print(intersection(lst1, lst2))\n"
   ]
  },
  {
   "cell_type": "code",
   "execution_count": 3,
   "id": "55a82b9d-aaf8-4402-9fbe-f60e03ee422b",
   "metadata": {},
   "outputs": [
    {
     "name": "stdout",
     "output_type": "stream",
     "text": [
      "[9, 10, 4, 5]\n"
     ]
    }
   ],
   "source": [
    "# Python program to illustrate the intersection\n",
    "# of two lists using set() method\n",
    "def intersection(lst1, lst2):\n",
    "\treturn list(set(lst1) & set(lst2))\n",
    "\n",
    "# Driver Code\n",
    "lst1 = [15, 9, 10, 56, 23, 78, 5, 4, 9]\n",
    "lst2 = [9, 4, 5, 36, 47, 26, 10, 45, 87]\n",
    "print(intersection(lst1, lst2))\n"
   ]
  },
  {
   "cell_type": "code",
   "execution_count": null,
   "id": "a32804c8-ec03-488f-b858-7f3202409cc3",
   "metadata": {},
   "outputs": [],
   "source": [
    "# Python program to illustrate the intersection\n",
    "# of two lists\n",
    "def intersection(lst1, lst2):\n",
    "\n",
    "\t# Use of hybrid method\n",
    "\ttemp = set(lst2)\n",
    "\tlst3 = [value for value in lst1 if value in temp]\n",
    "\treturn lst3\n",
    "\n",
    "# Driver Code\n",
    "lst1 = [9, 9, 74, 21, 45, 11, 63]\n",
    "lst2 = [4, 9, 1, 17, 11, 26, 28, 28, 26, 66, 91]\n",
    "print(intersection(lst1, lst2))\n"
   ]
  },
  {
   "cell_type": "code",
   "execution_count": 4,
   "id": "49d4250a-38c5-48b4-9a28-9906e28db4a4",
   "metadata": {},
   "outputs": [
    {
     "name": "stdout",
     "output_type": "stream",
     "text": [
      "7\n"
     ]
    }
   ],
   "source": [
    "print(int(6 == 6.0) * 3 + 4 % 5)  "
   ]
  },
  {
   "cell_type": "code",
   "execution_count": 9,
   "id": "975b1b2c-aa48-4426-8c05-7ac4d73e30dc",
   "metadata": {},
   "outputs": [
    {
     "name": "stdout",
     "output_type": "stream",
     "text": [
      "32\n",
      "0\n"
     ]
    }
   ],
   "source": [
    "arr = [3 , 2 , 5 , 6 , 0 , 7, 9]  \n",
    "add1 = 0  \n",
    "add2 = 0  \n",
    "for elem in arr:  \n",
    "    if (elem % 1 == 0):  \n",
    "        add1 = add1 + elem  \n",
    "        continue  \n",
    "    if (elem % 3 == 0):  \n",
    "        add2 = add2 + elem  \n",
    "        \n",
    "print(add1)  \n",
    "print(add2)  "
   ]
  },
  {
   "cell_type": "code",
   "execution_count": 24,
   "id": "0be0281f-ebd1-4fed-9546-436e170bc7d6",
   "metadata": {},
   "outputs": [
    {
     "name": "stdout",
     "output_type": "stream",
     "text": [
      "11\n",
      "11\n",
      "11\n",
      "11\n"
     ]
    }
   ],
   "source": [
    "i = [10, 11, 12, 13]  \n",
    "for i[-1] in i:  \n",
    "    print(i[-3])  "
   ]
  },
  {
   "cell_type": "code",
   "execution_count": 25,
   "id": "ec63817c-9637-4b35-83e8-e745ed093452",
   "metadata": {},
   "outputs": [
    {
     "name": "stdin",
     "output_type": "stream",
     "text": [
      "Enter the integer number:  12223321\n"
     ]
    },
    {
     "name": "stdout",
     "output_type": "stream",
     "text": [
      "The reverse number is : 12332221\n"
     ]
    }
   ],
   "source": [
    "number = int(input(\"Enter the integer number: \"))  \n",
    "  \n",
    "# Initiate value to null  \n",
    "revs_number = 0  \n",
    "  \n",
    "# reverse the integer number using the while loop  \n",
    "  \n",
    "while (number > 0):  \n",
    "    # Logic  \n",
    "    remainder = number % 10  \n",
    "    revs_number = (revs_number * 10) + remainder  \n",
    "    number = number // 10  \n",
    "  \n",
    "# Display the result  \n",
    "print(\"The reverse number is : {}\".format(revs_number))  "
   ]
  },
  {
   "cell_type": "code",
   "execution_count": 1,
   "id": "4afb41d3-38d3-4fbc-bf97-073c256f18c6",
   "metadata": {},
   "outputs": [
    {
     "name": "stdout",
     "output_type": "stream",
     "text": [
      "[2, 3, 4]\n"
     ]
    }
   ],
   "source": [
    "my_list = [1, 2, 3, 4, 5]\n",
    "\n",
    "print(my_list[1:4])"
   ]
  },
  {
   "cell_type": "code",
   "execution_count": 2,
   "id": "c8c70aa5-5fdd-4af4-9437-b2a8fce3de92",
   "metadata": {},
   "outputs": [
    {
     "ename": "TypeError",
     "evalue": "'tuple' object does not support item assignment",
     "output_type": "error",
     "traceback": [
      "\u001b[1;31m---------------------------------------------------------------------------\u001b[0m",
      "\u001b[1;31mTypeError\u001b[0m                                 Traceback (most recent call last)",
      "Cell \u001b[1;32mIn[2], line 3\u001b[0m\n\u001b[0;32m      1\u001b[0m my_tuple \u001b[38;5;241m=\u001b[39m (\u001b[38;5;241m1\u001b[39m, \u001b[38;5;241m2\u001b[39m, \u001b[38;5;241m3\u001b[39m)\n\u001b[1;32m----> 3\u001b[0m my_tuple[\u001b[38;5;241m1\u001b[39m] \u001b[38;5;241m=\u001b[39m \u001b[38;5;241m4\u001b[39m\n\u001b[0;32m      5\u001b[0m \u001b[38;5;28mprint\u001b[39m(my_tuple)\n",
      "\u001b[1;31mTypeError\u001b[0m: 'tuple' object does not support item assignment"
     ]
    }
   ],
   "source": [
    "my_tuple = (1, 2, 3)\n",
    "\n",
    "my_tuple[1] = 4\n",
    "\n",
    "print(my_tuple)"
   ]
  },
  {
   "cell_type": "code",
   "execution_count": 3,
   "id": "db123c21-ed54-4b92-9c25-93ddea6025cf",
   "metadata": {},
   "outputs": [
    {
     "name": "stdout",
     "output_type": "stream",
     "text": [
      "[1, 2, 3]\n"
     ]
    }
   ],
   "source": [
    "x = [1, 2, 3]\n",
    "\n",
    "y = x.copy()\n",
    "\n",
    "y.append(4)\n",
    "\n",
    "print(x)"
   ]
  },
  {
   "cell_type": "code",
   "execution_count": 4,
   "id": "dd264cde-2dcf-4815-857d-2012809845b3",
   "metadata": {},
   "outputs": [
    {
     "name": "stdout",
     "output_type": "stream",
     "text": [
      "None\n"
     ]
    }
   ],
   "source": [
    "my_dict = {\"name\": \"John\", \"age\": 25}\n",
    "\n",
    "print(my_dict.get(\"city\"))"
   ]
  },
  {
   "cell_type": "code",
   "execution_count": 5,
   "id": "00d54da5-b805-476b-ab0c-f60de2b36f2b",
   "metadata": {},
   "outputs": [
    {
     "name": "stdout",
     "output_type": "stream",
     "text": [
      "4\n"
     ]
    }
   ],
   "source": [
    "my_set = {1, 2, 3}\n",
    "\n",
    "my_set.add(4)\n",
    "\n",
    "print(len(my_set))"
   ]
  },
  {
   "cell_type": "code",
   "execution_count": 6,
   "id": "75ab6df3-aa51-4dd2-984a-ee69b752dc3f",
   "metadata": {},
   "outputs": [
    {
     "name": "stdout",
     "output_type": "stream",
     "text": [
      "2\n"
     ]
    }
   ],
   "source": [
    "print(\"Python\".find(\"th\"))"
   ]
  },
  {
   "cell_type": "code",
   "execution_count": 7,
   "id": "0d7cee74-ad9a-4e09-b173-6ed2ce6e8f04",
   "metadata": {},
   "outputs": [
    {
     "name": "stdout",
     "output_type": "stream",
     "text": [
      "True\n"
     ]
    }
   ],
   "source": [
    "print(3 > 2 > 1)"
   ]
  },
  {
   "cell_type": "code",
   "execution_count": 8,
   "id": "405cf7a9-22ed-4de2-8b80-f86e07c530ec",
   "metadata": {},
   "outputs": [
    {
     "name": "stdout",
     "output_type": "stream",
     "text": [
      "hello\n"
     ]
    }
   ],
   "source": [
    "x = \"Hello\"\n",
    "\n",
    "y = x.lower()\n",
    "\n",
    "print(y)"
   ]
  },
  {
   "cell_type": "code",
   "execution_count": 9,
   "id": "636aaea0-810b-42e8-b353-64b6ba9efe09",
   "metadata": {},
   "outputs": [],
   "source": [
    "my_list = [1, 2, 3]\n",
    "\n",
    "my_list.append([4, 5])"
   ]
  },
  {
   "cell_type": "code",
   "execution_count": 10,
   "id": "e1c60478-59e3-4b79-bbe9-df18c857d1df",
   "metadata": {},
   "outputs": [
    {
     "name": "stdout",
     "output_type": "stream",
     "text": [
      "4\n"
     ]
    }
   ],
   "source": [
    "my_list = [1, 2, 3]\n",
    "\n",
    "my_list.append([4, 5])\n",
    "\n",
    "print(len(my_list))"
   ]
  },
  {
   "cell_type": "code",
   "execution_count": 11,
   "id": "fd7b3862-1a5e-4d12-a282-ebc8339c82eb",
   "metadata": {},
   "outputs": [
    {
     "name": "stdout",
     "output_type": "stream",
     "text": [
      "2\n"
     ]
    }
   ],
   "source": [
    "x = 5\n",
    "\n",
    "y = 2\n",
    "\n",
    "print(x // y)"
   ]
  },
  {
   "cell_type": "code",
   "execution_count": 12,
   "id": "5cabeb0e-8dce-45d8-9fbb-8d6bb9881032",
   "metadata": {},
   "outputs": [
    {
     "name": "stdout",
     "output_type": "stream",
     "text": [
      "2\n"
     ]
    }
   ],
   "source": [
    "my_dict = {\"name\": \"John\", \"age\": 25}\n",
    "\n",
    "print(len(my_dict))"
   ]
  },
  {
   "cell_type": "code",
   "execution_count": 13,
   "id": "cdbc9fd7-47ff-4627-b984-8008bcbc4d27",
   "metadata": {},
   "outputs": [
    {
     "ename": "TypeError",
     "evalue": "can only concatenate str (not \"int\") to str",
     "output_type": "error",
     "traceback": [
      "\u001b[1;31m---------------------------------------------------------------------------\u001b[0m",
      "\u001b[1;31mTypeError\u001b[0m                                 Traceback (most recent call last)",
      "Cell \u001b[1;32mIn[13], line 1\u001b[0m\n\u001b[1;32m----> 1\u001b[0m \u001b[38;5;28mprint\u001b[39m(\u001b[38;5;124;43m\"\u001b[39;49m\u001b[38;5;124;43mHello\u001b[39;49m\u001b[38;5;124;43m\"\u001b[39;49m\u001b[43m \u001b[49m\u001b[38;5;241;43m+\u001b[39;49m\u001b[43m \u001b[49m\u001b[38;5;241;43m2\u001b[39;49m)\n",
      "\u001b[1;31mTypeError\u001b[0m: can only concatenate str (not \"int\") to str"
     ]
    }
   ],
   "source": [
    "print(\"Hello\" + 2)"
   ]
  },
  {
   "cell_type": "code",
   "execution_count": 14,
   "id": "e18bf4ee-4e06-4d6b-bd04-7653cc62ef73",
   "metadata": {},
   "outputs": [
    {
     "name": "stdout",
     "output_type": "stream",
     "text": [
      "17\n"
     ]
    }
   ],
   "source": [
    "print(2 + 3 * 5)"
   ]
  },
  {
   "cell_type": "code",
   "execution_count": 15,
   "id": "e72bb8cb-b68d-4fde-af24-ee927b70eace",
   "metadata": {},
   "outputs": [
    {
     "ename": "TypeError",
     "evalue": "'tuple' object does not support item assignment",
     "output_type": "error",
     "traceback": [
      "\u001b[1;31m---------------------------------------------------------------------------\u001b[0m",
      "\u001b[1;31mTypeError\u001b[0m                                 Traceback (most recent call last)",
      "Cell \u001b[1;32mIn[15], line 3\u001b[0m\n\u001b[0;32m      1\u001b[0m my_tuple \u001b[38;5;241m=\u001b[39m (\u001b[38;5;241m1\u001b[39m, \u001b[38;5;241m2\u001b[39m, \u001b[38;5;241m3\u001b[39m)\n\u001b[1;32m----> 3\u001b[0m my_tuple[\u001b[38;5;241m1\u001b[39m] \u001b[38;5;241m=\u001b[39m \u001b[38;5;241m4\u001b[39m\n\u001b[0;32m      5\u001b[0m \u001b[38;5;28mprint\u001b[39m(my_tuple)\n",
      "\u001b[1;31mTypeError\u001b[0m: 'tuple' object does not support item assignment"
     ]
    }
   ],
   "source": [
    "my_tuple = (1, 2, 3)\n",
    "\n",
    "my_tuple[1] = 4\n",
    "\n",
    "print(my_tuple)"
   ]
  },
  {
   "cell_type": "code",
   "execution_count": 16,
   "id": "3a9e540b-2d93-4fde-86df-0071c4b1e695",
   "metadata": {},
   "outputs": [
    {
     "name": "stdout",
     "output_type": "stream",
     "text": [
      "4\n"
     ]
    }
   ],
   "source": [
    "my_tuple = (1, 2, 3, 4, 5)\n",
    "\n",
    "print(my_tuple[-2])"
   ]
  },
  {
   "cell_type": "code",
   "execution_count": 17,
   "id": "90bedbca-04b7-40e2-b8ec-ea95d18b80a2",
   "metadata": {},
   "outputs": [
    {
     "name": "stdout",
     "output_type": "stream",
     "text": [
      "[1, 2, 3, 4]\n"
     ]
    }
   ],
   "source": [
    "x = [1, 2, 3]\n",
    "\n",
    "y = x\n",
    "\n",
    "y.append(4)\n",
    "\n",
    "print(x)"
   ]
  },
  {
   "cell_type": "code",
   "execution_count": 1,
   "id": "c996b6ff-b751-4bce-9aca-d2c3290194b2",
   "metadata": {},
   "outputs": [
    {
     "name": "stdout",
     "output_type": "stream",
     "text": [
      "9\n"
     ]
    }
   ],
   "source": [
    "def find_max_subarray_sum(numbers):\n",
    "    max_sum = current_sum = numbers[0]\n",
    "    for num in numbers[1:]:\n",
    "        current_sum = max(num, current_sum + num)\n",
    "        max_sum = max(max_sum, current_sum)\n",
    "    return max_sum\n",
    "\n",
    "numbers = [1, -2, 3, 4, -1, 2, 1, -5, 4]\n",
    "max_sum = find_max_subarray_sum(numbers)\n",
    "print(max_sum)"
   ]
  },
  {
   "cell_type": "code",
   "execution_count": 2,
   "id": "decd0edc-9622-4fa5-98b0-3349fe17378d",
   "metadata": {},
   "outputs": [
    {
     "name": "stdout",
     "output_type": "stream",
     "text": [
      "[4, 5]\n"
     ]
    }
   ],
   "source": [
    "def find_intersection(list1, list2):\n",
    "    intersection = list(set(list1) & set(list2))\n",
    "    return intersection\n",
    "\n",
    "list1 = [1, 2, 3, 4, 5]\n",
    "list2 = [4, 5, 6, 7, 8]\n",
    "intersection = find_intersection(list1, list2)\n",
    "print(intersection)"
   ]
  },
  {
   "cell_type": "code",
   "execution_count": 9,
   "id": "5c71730c-25bd-467a-ad90-f6676f565afb",
   "metadata": {},
   "outputs": [
    {
     "name": "stdout",
     "output_type": "stream",
     "text": [
      "First non-repeating character: e\n"
     ]
    }
   ],
   "source": [
    "def find(string):\n",
    "    char_count = {}\n",
    "    \n",
    "    # Count the occurrences of each character in the string\n",
    "    for char in string:\n",
    "        if char in char_count:\n",
    "            char_count[char] += 1\n",
    "        else:\n",
    "            char_count[char] = 1\n",
    "    \n",
    "    # Find the first character with a count of 1\n",
    "    for char in string:\n",
    "        if char_count[char] == 1:\n",
    "            return char\n",
    "    \n",
    "    # If no non-repeating character is found, return None\n",
    "    return None\n",
    "\n",
    "# Test the function\n",
    "string = \"aabbccddeff\"\n",
    "first = find(string)\n",
    "print(\"First non-repeating character:\", first)"
   ]
  },
  {
   "cell_type": "code",
   "execution_count": null,
   "id": "00376f00-f5ba-4e29-9781-66ed687621fb",
   "metadata": {},
   "outputs": [],
   "source": [
    "def are_anagrams(string1, string2):\n",
    "    return sorted(string1) == sorted(string2)\n",
    "\n",
    "string1 = \"listen\"\n",
    "string2 = \"silent\"\n",
    "print(are_anagrams(string1, string2))\n",
    "\n",
    "\n",
    "\n",
    "\n",
    "\n"
   ]
  },
  {
   "cell_type": "code",
   "execution_count": null,
   "id": "3939c7be-dea4-4187-a923-e9e8fe33c2cc",
   "metadata": {},
   "outputs": [],
   "source": [
    "#Implement a function to find the first non-repeating character in a string:\n",
    "def find_prime_factors(number):\n",
    "    factors = []\n",
    "    divisor = 2\n",
    "    while divisor <= number:\n",
    "        if number % divisor == 0:\n",
    "            factors.append(divisor)\n",
    "            number = number // divisor\n",
    "        else:\n",
    "            divisor += 1\n",
    "    return factors\n",
    "\n",
    "number = 36\n",
    "prime_factors = find_prime_factors(number)\n",
    "print(\"Prime factors:\", prime_factors)\n",
    "#Implement a function to check if a given number is a power of two:\n",
    "\n",
    "\n",
    "\n"
   ]
  },
  {
   "cell_type": "code",
   "execution_count": null,
   "id": "78f16aca-e976-4899-8e73-028ca00ea5e4",
   "metadata": {},
   "outputs": [],
   "source": [
    "from collections import Counter\n",
    "def find_mode(numbers):\n",
    "    counter = Counter(numbers)\n",
    "    max_count = max(counter.values())\n",
    "    mode = [num for num, count in counter.items() if count == max_count]\n",
    "    return mode\n",
    "\n",
    "numbers = [1, 2, 3, 2, 4, 2, 5]\n",
    "mode = find_mode(numbers)\n",
    "print(\"Mode:\", mode)\n",
    "\n"
   ]
  },
  {
   "cell_type": "code",
   "execution_count": null,
   "id": "fe90ef7c-f80e-403e-9c0e-fbc6e8309735",
   "metadata": {},
   "outputs": [],
   "source": [
    "def find_gcd(a, b):\n",
    "    while b:\n",
    "        a, b = b, a % b\n",
    "    return a\n",
    "\n",
    "num1 = 24\n",
    "num2 =30"
   ]
  },
  {
   "cell_type": "code",
   "execution_count": null,
   "id": "76db14fd-d708-4773-ab29-919cb9d50669",
   "metadata": {},
   "outputs": [],
   "source": [
    "def reverse_words(sentence):\n",
    "    words = sentence.split()\n",
    "    reversed_words = ' '.join(reversed(words))\n",
    "    return reversed_words\n",
    "\n",
    "sentence = \"Hello World\"\n",
    "reversed_sentence = reverse_words(sentence)\n",
    "print(reversed_sentence)\n",
    "# Write a Python program to check if two strings are anagrams of each other:\n"
   ]
  },
  {
   "cell_type": "code",
   "execution_count": null,
   "id": "2e0f95f4-a8a8-4939-93d4-b574e784cbbb",
   "metadata": {},
   "outputs": [],
   "source": [
    "def merge_sorted_lists(list1, list2):\n",
    "    merged_list = []\n",
    "    i = j = 0\n",
    "    while i < len(list1) and j < len(list2):\n",
    "        if list1[i] < list2[j]:\n",
    "            merged_list.append(list1[i])\n",
    "            i += 1\n",
    "        else:\n",
    "            merged_list.append(list2[j])\n",
    "            j += 1\n",
    "    merged_list.extend(list1[i:])\n",
    "    merged_list.extend(list2[j:])\n",
    "    return merged_list\n",
    "\n",
    "list1 = [1, 3, 5]\n",
    "list2 = [2, 4, 6]\n",
    "merged_list = merge_sorted_lists(list1, list2)\n",
    "print(merged_list)\n",
    "#Implement a function to find the mode of a list of numbers:\n"
   ]
  },
  {
   "cell_type": "code",
   "execution_count": null,
   "id": "046a805f-03be-42a7-8af3-e553b9727c0f",
   "metadata": {},
   "outputs": [],
   "source": [
    "def is_power_of_two(number):\n",
    "    if number <= 0:\n",
    "        return False\n",
    "    return (number & (number - 1)) == 0\n",
    "\n",
    "number = 16\n",
    "print(is_power_of_two(number))"
   ]
  },
  {
   "cell_type": "code",
   "execution_count": null,
   "id": "1a9d12be-a145-45c8-8a57-a3971f369144",
   "metadata": {},
   "outputs": [],
   "source": [
    "def remove_vowels(string):\n",
    "    vowels = \"aeiouAEIOU\"\n",
    "    return ''.join(char for char in string if char not in vowels)\n",
    "\n",
    "string = \"Hello World\"\n",
    "result = remove_vowels(string)\n",
    "print(result)\n",
    "# Implement a function to reverse the order of words in a given sentence:\n"
   ]
  },
  {
   "cell_type": "code",
   "execution_count": 8,
   "id": "ed638794-d1df-4cb0-94ba-0b22a92be4e7",
   "metadata": {},
   "outputs": [
    {
     "name": "stdout",
     "output_type": "stream",
     "text": [
      "First non-repeating character: c\n"
     ]
    }
   ],
   "source": [
    "def find(string):\n",
    "    char_count = {}\n",
    "    for char in string:\n",
    "        if char in char_count:\n",
    "            char_count[char] += 1\n",
    "        else:\n",
    "            char_count[char] = 1\n",
    "    for char in string:\n",
    "        if char_count[char] == 1:\n",
    "            return char\n",
    "    return None\n",
    "\n",
    "string = \"aabbcdeff\"\n",
    "first_non_repeating_char = find(string)\n",
    "print(\"First non-repeating character:\", first_non_repeating_char)\n",
    "#Write a program to find the prime factors of a given number:"
   ]
  },
  {
   "cell_type": "code",
   "execution_count": null,
   "id": "d9e14eb7-49af-4ff0-b51f-e734f71422b4",
   "metadata": {},
   "outputs": [],
   "source": [
    "'''30. Implement a function to find the minimum element in a rotated sorted list.\n",
    "31. Write a program to find the sum of all even numbers in a list.\n",
    "32. Implement a function to calculate the power of a number using recursion.\n",
    "33. Write a Python program to remove duplicates from a list while preserving the order.\n",
    "34. Implement a function to find the longest common prefix among a list of strings.\n",
    "35. Write a program to check if a given number is a perfect square.\n",
    "36. Implement a function to calculate the product of all elements in a list.\n",
    "37. Write a Python program to reverse the order of words in a sentence while preserving the word order.'''\n"
   ]
  },
  {
   "cell_type": "code",
   "execution_count": 10,
   "id": "469c7971-fead-4e35-a913-6496f75846b1",
   "metadata": {},
   "outputs": [],
   "source": [
    "#Here is an implementation of a function to find the minimum element in a rotated sorted list:\n",
    "def find_minimum(nums):\n",
    "    left = 0\n",
    "    right = len(nums) - 1\n",
    "\n",
    "    while left < right:\n",
    "        mid = (left + right) // 2\n",
    "\n",
    "        if nums[mid] > nums[right]:\n",
    "            left = mid + 1\n",
    "        else:\n",
    "            right = mid\n",
    "\n",
    "    return nums[left]\n",
    "#Here is a program to find the sum of all even numbers in a list:\n",
    "\n"
   ]
  },
  {
   "cell_type": "code",
   "execution_count": null,
   "id": "bb2fdc29-bd90-4701-845d-e603cee1493a",
   "metadata": {},
   "outputs": [],
   "source": [
    "def sum_even_numbers(numbers):\n",
    "    sum = 0\n",
    "    for num in numbers:\n",
    "        if num % 2 == 0:\n",
    "            sum += num\n",
    "    return sum\n",
    "#Here is an implementation of a function to calculate the power of a number using recursion:\n",
    "\n",
    "\n",
    "\n"
   ]
  },
  {
   "cell_type": "code",
   "execution_count": null,
   "id": "05ea1c9b-b6ad-4a69-812a-e0b2a7fe185e",
   "metadata": {},
   "outputs": [],
   "source": [
    "def power(base, exponent):\n",
    "    if exponent == 0:\n",
    "        return 1\n",
    "    elif exponent < 0:\n",
    "        return 1 / power(base, -exponent)\n",
    "    else:\n",
    "        return base * power(base, exponent - 1)\n",
    "#Here is a Python program to remove duplicates from a list while preserving the order:\n",
    "\n"
   ]
  },
  {
   "cell_type": "code",
   "execution_count": null,
   "id": "7c20168c-ddb1-4ac0-9005-a91c95a66107",
   "metadata": {},
   "outputs": [],
   "source": [
    "def remove_duplicates(numbers):\n",
    "    unique_numbers = []\n",
    "    for num in numbers:\n",
    "        if num not in unique_numbers:\n",
    "            unique_numbers.append(num)\n",
    "    return unique_numbers\n",
    "#Here is an implementation of a function to find the longest common prefix among a list of strings:\n",
    "\n"
   ]
  },
  {
   "cell_type": "code",
   "execution_count": null,
   "id": "4b0a5346-aff5-49fa-8f64-d1c22d90243d",
   "metadata": {},
   "outputs": [],
   "source": [
    "def find_longest_common_prefix(strings):\n",
    "    if not strings:\n",
    "        return \"\"\n",
    "    \n",
    "    prefix = strings[0]\n",
    "    for string in strings[1:]:\n",
    "        while string[:len(prefix)] != prefix:\n",
    "            prefix = prefix[:-1]\n",
    "            if not prefix:\n",
    "                return \"\"\n",
    "    return prefix\n",
    "# Here is a program to check if a given number is a perfect square:\n"
   ]
  },
  {
   "cell_type": "code",
   "execution_count": 22,
   "id": "2980de7c-bc5b-4c48-b1c3-01083f1fa04b",
   "metadata": {},
   "outputs": [
    {
     "data": {
      "text/plain": [
       "'2136551236764784'"
      ]
     },
     "execution_count": 22,
     "metadata": {},
     "output_type": "execute_result"
    }
   ],
   "source": [
    "def reverse_words(sentence):\n",
    "    words = sentence.split()\n",
    "    reversed_sentence = ' '.join(reversed(words))\n",
    "    return reversed_sentence\n",
    "reverse_words(\"2136551236764784\")"
   ]
  },
  {
   "cell_type": "code",
   "execution_count": 19,
   "id": "77738553-2590-463c-9e8c-840f6d7cf8d7",
   "metadata": {},
   "outputs": [
    {
     "ename": "TypeError",
     "evalue": "'int' object is not iterable",
     "output_type": "error",
     "traceback": [
      "\u001b[1;31m---------------------------------------------------------------------------\u001b[0m",
      "\u001b[1;31mTypeError\u001b[0m                                 Traceback (most recent call last)",
      "Cell \u001b[1;32mIn[19], line 7\u001b[0m\n\u001b[0;32m      4\u001b[0m         product \u001b[38;5;241m*\u001b[39m\u001b[38;5;241m=\u001b[39m num\n\u001b[0;32m      5\u001b[0m     \u001b[38;5;28;01mreturn\u001b[39;00m product\n\u001b[1;32m----> 7\u001b[0m \u001b[38;5;28mprint\u001b[39m(\u001b[43mcalculate_product\u001b[49m\u001b[43m(\u001b[49m\u001b[38;5;241;43m123\u001b[39;49m\u001b[43m)\u001b[49m)\n",
      "Cell \u001b[1;32mIn[19], line 3\u001b[0m, in \u001b[0;36mcalculate_product\u001b[1;34m(numbers)\u001b[0m\n\u001b[0;32m      1\u001b[0m \u001b[38;5;28;01mdef\u001b[39;00m \u001b[38;5;21mcalculate_product\u001b[39m(numbers):\n\u001b[0;32m      2\u001b[0m     product \u001b[38;5;241m=\u001b[39m \u001b[38;5;241m1\u001b[39m\n\u001b[1;32m----> 3\u001b[0m     \u001b[38;5;28;01mfor\u001b[39;00m num \u001b[38;5;129;01min\u001b[39;00m numbers:\n\u001b[0;32m      4\u001b[0m         product \u001b[38;5;241m*\u001b[39m\u001b[38;5;241m=\u001b[39m num\n\u001b[0;32m      5\u001b[0m     \u001b[38;5;28;01mreturn\u001b[39;00m product\n",
      "\u001b[1;31mTypeError\u001b[0m: 'int' object is not iterable"
     ]
    }
   ],
   "source": [
    "def calculate_product(numbers):\n",
    "    product = 1\n",
    "    for num in numbers:\n",
    "        product *= num\n",
    "    return product\n",
    "\n"
   ]
  },
  {
   "cell_type": "code",
   "execution_count": 21,
   "id": "31d44d67-4215-48ba-a04c-6b2d514f4872",
   "metadata": {},
   "outputs": [
    {
     "data": {
      "text/plain": [
       "True"
      ]
     },
     "execution_count": 21,
     "metadata": {},
     "output_type": "execute_result"
    }
   ],
   "source": [
    "def is_perfect_square(number):\n",
    "    if number < 0:\n",
    "        return False\n",
    "\n",
    "    root = int(number ** 0.5)\n",
    "    return root * root == number\n",
    "is_perfect_square(144)\n",
    "\n"
   ]
  },
  {
   "cell_type": "code",
   "execution_count": null,
   "id": "40833fa0-5fc9-457e-abca-991ce91dc63c",
   "metadata": {},
   "outputs": [],
   "source": [
    "'''38.Implement a function to find the missing number in a given list of consecutive numbers.\n",
    "39. Write a program to find the sum of digits of a given number.\n",
    "40. Implement a function to check if a given string is a valid palindrome considering case sensitivity.\n",
    "41. Write a Python program to find the smallest missing positive integer in a list.\n",
    "42. Implement a function to find the longest palindrome substring in a given string.\n",
    "43. Write a program to find the number of occurrences of a given element in a list.\n",
    "44. Implement a function to check if a given number is a perfect number.\n",
    "45. Write a Python program to remove all duplicates from a string.\n",
    "46. Implement a function to find the first missing positive'''\n"
   ]
  },
  {
   "cell_type": "code",
   "execution_count": 23,
   "id": "407edfd5-8906-4056-a1fb-af9a8b974c94",
   "metadata": {},
   "outputs": [],
   "source": [
    "#Here is an implementation of a function to find the missing number in a given list of consecutive numbers:\n",
    "\n",
    "def find_missing_number(numbers):\n",
    "    n = len(numbers) + 1\n",
    "    total_sum = (n * (n + 1)) // 2\n",
    "    actual_sum = sum(numbers)\n",
    "    missing_number = total_sum - actual_sum\n",
    "    return missing_number\n",
    "#Here is a program to find the sum of digits of a given number:\n",
    "\n",
    "\n",
    "def find_smallest_missing_positive(numbers):\n",
    "    n = len(numbers)\n",
    "    for i in range(n):\n",
    "        while numbers[i] > 0 and numbers[i] <= n and numbers[numbers[i] - 1] != numbers[i]:\n",
    "            temp = numbers[numbers[i] - 1]\n",
    "            numbers[numbers[i] - 1] = numbers[i]\n",
    "            numbers[i] = temp\n",
    "\n",
    "    for i in range(n):\n",
    "        if numbers[i] != i + 1:\n",
    "            return i + 1\n",
    "\n",
    "    return n + 1\n",
    "#Here is an implementation of a function to find the longest palindrome substring in a given string:\n"
   ]
  },
  {
   "cell_type": "code",
   "execution_count": null,
   "id": "abdb78ab-2d9f-42ab-b8dc-e35bafb63a5a",
   "metadata": {},
   "outputs": [],
   "source": [
    "def longest_palindrome_substring(string):\n",
    "    longest_substring = \"\"\n",
    "    max_length = 0\n",
    "\n",
    "    for i in range(len(string)):\n",
    "        for j in range(i, len(string)):\n",
    "            substring = string[i:j+1]\n",
    "            if substring == substring[::-1] and len(substring) > max_length:\n",
    "                longest_substring = substring\n",
    "                max_length = len(substring)\n",
    "\n",
    "    return longest_substring\n",
    "#Here is a program to find the number of occurrences of a given element in a list:\n",
    "\n"
   ]
  },
  {
   "cell_type": "code",
   "execution_count": null,
   "id": "ab0a22ab-a85c-484c-943a-101c1192f09e",
   "metadata": {},
   "outputs": [],
   "source": [
    "def sum_of_digits(number):\n",
    "    sum = 0\n",
    "    while number > 0:\n",
    "        digit = number % 10\n",
    "        sum += digit\n",
    "        number //= 10\n",
    "    return sum\n",
    "#Here is an implementation of a function to check if a given string is a valid palindrome considering case sensitivity:\n"
   ]
  },
  {
   "cell_type": "code",
   "execution_count": null,
   "id": "33ae454c-2c8d-49ea-a8d8-2d4a224e6b71",
   "metadata": {},
   "outputs": [],
   "source": [
    "def is_valid_palindrome(string):\n",
    "    string = string.lower()\n",
    "    left = 0\n",
    "    right = len(string) - 1\n",
    "\n",
    "    while left < right:\n",
    "        if string[left] != string[right]:\n",
    "            return False\n",
    "        left += 1\n",
    "        right -= 1\n",
    "\n",
    "    return True\n",
    "#Here is a Python program to find the smallest missing positive integer in a list"
   ]
  },
  {
   "cell_type": "code",
   "execution_count": null,
   "id": "5ef5be6b-d79e-4fbb-b3e4-a5c2493e56d3",
   "metadata": {},
   "outputs": [],
   "source": [
    "def count_occurrences(numbers, element):\n",
    "    count = 0\n",
    "    for num in numbers:\n",
    "        if num == element:\n",
    "            count += 1\n",
    "    return count\n",
    "#Here is an implementation of a function to check if a given number is a perfect number:\n",
    "\n",
    "\n"
   ]
  },
  {
   "cell_type": "code",
   "execution_count": null,
   "id": "2c56c402-f8a7-4ae2-8be8-75300d49b9df",
   "metadata": {},
   "outputs": [],
   "source": [
    "def is_perfect_number(number):\n",
    "    if number <= 0:\n",
    "        return False\n",
    "\n",
    "    divisors_sum = 0\n",
    "    for i in range(1, number):\n",
    "        if number % i == 0:\n",
    "            divisors_sum += i\n",
    "\n",
    "    return divisors_sum == number\n",
    "#Here is a Python program to remove all duplicates from a string:\n",
    "\n",
    "\n",
    "\n"
   ]
  },
  {
   "cell_type": "code",
   "execution_count": null,
   "id": "ff3e9d7b-9419-4bbc-86e0-ad09e24e1261",
   "metadata": {},
   "outputs": [],
   "source": [
    "def remove_duplicates(string):\n",
    "    unique_chars = set()\n",
    "    result = \"\"\n",
    "    for char in string:\n",
    "        if char not in unique_chars:\n",
    "            result += char\n",
    "            unique_chars.add(char)\n",
    "    return result\n",
    "#Here is an implementation of a function to find the first missing positive number in a list:\n"
   ]
  },
  {
   "cell_type": "code",
   "execution_count": null,
   "id": "75d48e5d-5316-436a-b657-5b7cece22a89",
   "metadata": {},
   "outputs": [],
   "source": [
    "def find(numbers):\n",
    "    n = len(numbers)\n",
    "\n",
    "    for i in range(n):\n",
    "        while 1 <= numbers[i] <= n and numbers[numbers[i] - 1] != numbers[i]:\n",
    "            numbers[numbers[i] - 1], numbers[i] = numbers[i], numbers[numbers[i] - 1]\n",
    "\n",
    "    for i in range(n):\n",
    "        if numbers[i] != i + 1:\n",
    "            return i + 1\n",
    "\n",
    "    return n + 1"
   ]
  },
  {
   "cell_type": "code",
   "execution_count": 24,
   "id": "4459420d-e575-4588-b85d-d0befa3eb600",
   "metadata": {},
   "outputs": [
    {
     "ename": "SyntaxError",
     "evalue": "invalid syntax (3766566652.py, line 6)",
     "output_type": "error",
     "traceback": [
      "\u001b[1;36m  Cell \u001b[1;32mIn[24], line 6\u001b[1;36m\u001b[0m\n\u001b[1;33m    elif\u001b[0m\n\u001b[1;37m         ^\u001b[0m\n\u001b[1;31mSyntaxError\u001b[0m\u001b[1;31m:\u001b[0m invalid syntax\n"
     ]
    }
   ],
   "source": []
  },
  {
   "cell_type": "code",
   "execution_count": null,
   "id": "21a04756-daad-4cb0-a9d7-1df1483e4094",
   "metadata": {},
   "outputs": [],
   "source": []
  }
 ],
 "metadata": {
  "kernelspec": {
   "display_name": "Python 3 (ipykernel)",
   "language": "python",
   "name": "python3"
  },
  "language_info": {
   "codemirror_mode": {
    "name": "ipython",
    "version": 3
   },
   "file_extension": ".py",
   "mimetype": "text/x-python",
   "name": "python",
   "nbconvert_exporter": "python",
   "pygments_lexer": "ipython3",
   "version": "3.10.9"
  }
 },
 "nbformat": 4,
 "nbformat_minor": 5
}
